{
 "cells": [
  {
   "cell_type": "markdown",
   "id": "d1ee1620",
   "metadata": {},
   "source": [
    "### Introduction: Project Goal\n",
    "    \n",
    "The goal of this project is to visualize ecommerce fashion data. "
   ]
  },
  {
   "cell_type": "markdown",
   "id": "d67803d8",
   "metadata": {},
   "source": [
    "### Background"
   ]
  },
  {
   "cell_type": "markdown",
   "id": "cb8a6b20",
   "metadata": {},
   "source": [
    "### Data and Methodology\n",
    "This Ecommerce dataset contains over 30K products and the dataset is located here: https://www.kaggle.com/datasets/mukuldeshantri/ecommerce-fashion-dataset"
   ]
  },
  {
   "cell_type": "code",
   "execution_count": 1,
   "id": "97a480e5",
   "metadata": {},
   "outputs": [],
   "source": [
    "import pandas as pd\n",
    "import numpy as np\n",
    "\n",
    "# Matplotlib and associated plotting modules\n",
    "import matplotlib.cm as cm\n",
    "import matplotlib.colors as colors\n",
    "\n",
    "%matplotlib inline \n",
    "\n",
    "import matplotlib as mpl\n",
    "import matplotlib.pyplot as plt"
   ]
  },
  {
   "cell_type": "code",
   "execution_count": 2,
   "id": "6e248fba",
   "metadata": {},
   "outputs": [
    {
     "data": {
      "text/html": [
       "<div>\n",
       "<style scoped>\n",
       "    .dataframe tbody tr th:only-of-type {\n",
       "        vertical-align: middle;\n",
       "    }\n",
       "\n",
       "    .dataframe tbody tr th {\n",
       "        vertical-align: top;\n",
       "    }\n",
       "\n",
       "    .dataframe thead th {\n",
       "        text-align: right;\n",
       "    }\n",
       "</style>\n",
       "<table border=\"1\" class=\"dataframe\">\n",
       "  <thead>\n",
       "    <tr style=\"text-align: right;\">\n",
       "      <th></th>\n",
       "      <th>Unnamed: 0</th>\n",
       "      <th>BrandName</th>\n",
       "      <th>Deatils</th>\n",
       "      <th>Sizes</th>\n",
       "      <th>MRP</th>\n",
       "      <th>SellPrice</th>\n",
       "      <th>Discount</th>\n",
       "      <th>Category</th>\n",
       "    </tr>\n",
       "  </thead>\n",
       "  <tbody>\n",
       "    <tr>\n",
       "      <th>0</th>\n",
       "      <td>0</td>\n",
       "      <td>life</td>\n",
       "      <td>solid cotton blend collar neck womens a-line d...</td>\n",
       "      <td>Size:Large,Medium,Small,X-Large,X-Small</td>\n",
       "      <td>Rs\\n1699</td>\n",
       "      <td>849</td>\n",
       "      <td>50% off</td>\n",
       "      <td>Westernwear-Women</td>\n",
       "    </tr>\n",
       "    <tr>\n",
       "      <th>1</th>\n",
       "      <td>1</td>\n",
       "      <td>only</td>\n",
       "      <td>polyester peter pan collar womens blouson dres...</td>\n",
       "      <td>Size:34,36,38,40</td>\n",
       "      <td>Rs\\n3499</td>\n",
       "      <td>2449</td>\n",
       "      <td>30% off</td>\n",
       "      <td>Westernwear-Women</td>\n",
       "    </tr>\n",
       "    <tr>\n",
       "      <th>2</th>\n",
       "      <td>2</td>\n",
       "      <td>fratini</td>\n",
       "      <td>solid polyester blend wide neck womens regular...</td>\n",
       "      <td>Size:Large,X-Large,XX-Large</td>\n",
       "      <td>Rs\\n1199</td>\n",
       "      <td>599</td>\n",
       "      <td>50% off</td>\n",
       "      <td>Westernwear-Women</td>\n",
       "    </tr>\n",
       "    <tr>\n",
       "      <th>3</th>\n",
       "      <td>3</td>\n",
       "      <td>zink london</td>\n",
       "      <td>stripes polyester sweetheart neck womens dress...</td>\n",
       "      <td>Size:Large,Medium,Small,X-Large</td>\n",
       "      <td>Rs\\n2299</td>\n",
       "      <td>1379</td>\n",
       "      <td>40% off</td>\n",
       "      <td>Westernwear-Women</td>\n",
       "    </tr>\n",
       "    <tr>\n",
       "      <th>4</th>\n",
       "      <td>4</td>\n",
       "      <td>life</td>\n",
       "      <td>regular fit regular length denim womens jeans ...</td>\n",
       "      <td>Size:26,28,30,32,34,36</td>\n",
       "      <td>Rs\\n1699</td>\n",
       "      <td>849</td>\n",
       "      <td>50% off</td>\n",
       "      <td>Westernwear-Women</td>\n",
       "    </tr>\n",
       "  </tbody>\n",
       "</table>\n",
       "</div>"
      ],
      "text/plain": [
       "   Unnamed: 0    BrandName                                            Deatils  \\\n",
       "0           0         life  solid cotton blend collar neck womens a-line d...   \n",
       "1           1         only  polyester peter pan collar womens blouson dres...   \n",
       "2           2      fratini  solid polyester blend wide neck womens regular...   \n",
       "3           3  zink london  stripes polyester sweetheart neck womens dress...   \n",
       "4           4         life  regular fit regular length denim womens jeans ...   \n",
       "\n",
       "                                     Sizes       MRP SellPrice Discount  \\\n",
       "0  Size:Large,Medium,Small,X-Large,X-Small  Rs\\n1699       849  50% off   \n",
       "1                         Size:34,36,38,40  Rs\\n3499      2449  30% off   \n",
       "2              Size:Large,X-Large,XX-Large  Rs\\n1199       599  50% off   \n",
       "3          Size:Large,Medium,Small,X-Large  Rs\\n2299      1379  40% off   \n",
       "4                   Size:26,28,30,32,34,36  Rs\\n1699       849  50% off   \n",
       "\n",
       "            Category  \n",
       "0  Westernwear-Women  \n",
       "1  Westernwear-Women  \n",
       "2  Westernwear-Women  \n",
       "3  Westernwear-Women  \n",
       "4  Westernwear-Women  "
      ]
     },
     "execution_count": 2,
     "metadata": {},
     "output_type": "execute_result"
    }
   ],
   "source": [
    "df = pd.read_csv(\"C:/Users/yzhou/Fashiondataset.csv\")\n",
    "df.head()"
   ]
  },
  {
   "cell_type": "code",
   "execution_count": 3,
   "id": "fc5da13c",
   "metadata": {},
   "outputs": [
    {
     "name": "stdout",
     "output_type": "stream",
     "text": [
      "(30758, 8)\n",
      "<class 'pandas.core.frame.DataFrame'>\n",
      "RangeIndex: 30758 entries, 0 to 30757\n",
      "Data columns (total 8 columns):\n",
      " #   Column      Non-Null Count  Dtype \n",
      "---  ------      --------------  ----- \n",
      " 0   Unnamed: 0  30758 non-null  int64 \n",
      " 1   BrandName   30758 non-null  object\n",
      " 2   Deatils     30758 non-null  object\n",
      " 3   Sizes       30758 non-null  object\n",
      " 4   MRP         30758 non-null  object\n",
      " 5   SellPrice   30758 non-null  object\n",
      " 6   Discount    30758 non-null  object\n",
      " 7   Category    30758 non-null  object\n",
      "dtypes: int64(1), object(7)\n",
      "memory usage: 1.9+ MB\n"
     ]
    }
   ],
   "source": [
    "print(df.shape)\n",
    "df.info()"
   ]
  },
  {
   "cell_type": "markdown",
   "id": "9d6e80f6",
   "metadata": {},
   "source": [
    "Convert SellPrice and Discount to numeric"
   ]
  },
  {
   "cell_type": "code",
   "execution_count": 4,
   "id": "b3b461e7",
   "metadata": {},
   "outputs": [
    {
     "name": "stdout",
     "output_type": "stream",
     "text": [
      "   Unnamed: 0    BrandName                                            Deatils  \\\n",
      "0           0         life  solid cotton blend collar neck womens a-line d...   \n",
      "1           1         only  polyester peter pan collar womens blouson dres...   \n",
      "2           2      fratini  solid polyester blend wide neck womens regular...   \n",
      "3           3  zink london  stripes polyester sweetheart neck womens dress...   \n",
      "4           4         life  regular fit regular length denim womens jeans ...   \n",
      "\n",
      "                                     Sizes       MRP  SellPrice Discount  \\\n",
      "0  Size:Large,Medium,Small,X-Large,X-Small  Rs\\n1699        849  50% off   \n",
      "1                         Size:34,36,38,40  Rs\\n3499       2449  30% off   \n",
      "2              Size:Large,X-Large,XX-Large  Rs\\n1199        599  50% off   \n",
      "3          Size:Large,Medium,Small,X-Large  Rs\\n2299       1379  40% off   \n",
      "4                   Size:26,28,30,32,34,36  Rs\\n1699        849  50% off   \n",
      "\n",
      "            Category  \n",
      "0  Westernwear-Women  \n",
      "1  Westernwear-Women  \n",
      "2  Westernwear-Women  \n",
      "3  Westernwear-Women  \n",
      "4  Westernwear-Women  \n"
     ]
    }
   ],
   "source": [
    "df['SellPrice'] = df['SellPrice'].replace({'Nan':'0'})\n",
    "df['SellPrice'] = pd.to_numeric(df['SellPrice'])\n",
    "print(df.head())"
   ]
  },
  {
   "cell_type": "markdown",
   "id": "11e16a04",
   "metadata": {},
   "source": [
    "#### Visualize the SellPrice vs. Discount"
   ]
  },
  {
   "cell_type": "code",
   "execution_count": 5,
   "id": "1941b656",
   "metadata": {},
   "outputs": [
    {
     "data": {
      "image/png": "[encoded data removed]",
      "text/plain": [
       "<Figure size 1440x720 with 1 Axes>"
      ]
     },
     "metadata": {
      "needs_background": "light"
     },
     "output_type": "display_data"
    }
   ],
   "source": [
    "plot_count = df.plot.line(x='Discount', y='SellPrice', figsize=(20, 10))"
   ]
  }
 ],
 "metadata": {
  "kernelspec": {
   "display_name": "Python 3 (ipykernel)",
   "language": "python",
   "name": "python3"
  },
  "language_info": {
   "codemirror_mode": {
    "name": "ipython",
    "version": 3
   },
   "file_extension": ".py",
   "mimetype": "text/x-python",
   "name": "python",
   "nbconvert_exporter": "python",
   "pygments_lexer": "ipython3",
   "version": "3.10.4"
  }
 },
 "nbformat": 4,
 "nbformat_minor": 5
}
